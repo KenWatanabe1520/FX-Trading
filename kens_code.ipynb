{
 "cells": [
  {
   "cell_type": "markdown",
   "id": "bc1a4612-779e-4076-9873-f36d24ac7691",
   "metadata": {
    "id": "bc1a4612-779e-4076-9873-f36d24ac7691"
   },
   "source": [
    "Python用MetaTrader5のインポート"
   ]
  },
  {
   "cell_type": "code",
   "execution_count": 1,
   "id": "aa0f5cdb",
   "metadata": {},
   "outputs": [
    {
     "name": "stdout",
     "output_type": "stream",
     "text": [
      "Requirement already satisfied: pandas in b:\\python\\python3.11.0\\lib\\site-packages (2.0.3)\n",
      "Requirement already satisfied: python-dateutil>=2.8.2 in c:\\users\\daier\\appdata\\roaming\\python\\python311\\site-packages (from pandas) (2.8.2)\n",
      "Requirement already satisfied: pytz>=2020.1 in b:\\python\\python3.11.0\\lib\\site-packages (from pandas) (2023.3)\n",
      "Requirement already satisfied: tzdata>=2022.1 in b:\\python\\python3.11.0\\lib\\site-packages (from pandas) (2023.3)\n",
      "Requirement already satisfied: numpy>=1.21.0 in b:\\python\\python3.11.0\\lib\\site-packages (from pandas) (1.25.0)\n",
      "Requirement already satisfied: six>=1.5 in c:\\users\\daier\\appdata\\roaming\\python\\python311\\site-packages (from python-dateutil>=2.8.2->pandas) (1.16.0)\n",
      "Note: you may need to restart the kernel to use updated packages.\n"
     ]
    },
    {
     "name": "stderr",
     "output_type": "stream",
     "text": [
      "\n",
      "[notice] A new release of pip available: 22.3 -> 23.2\n",
      "[notice] To update, run: python.exe -m pip install --upgrade pip\n"
     ]
    }
   ],
   "source": [
    "pip install pandas"
   ]
  },
  {
   "cell_type": "code",
   "execution_count": 2,
   "id": "927a9939-b132-4f13-b326-5a2291a4e1de",
   "metadata": {
    "id": "927a9939-b132-4f13-b326-5a2291a4e1de"
   },
   "outputs": [],
   "source": [
    "import MetaTrader5 as mt5\n",
    "import numpy as np\n",
    "import pandas as pd\n",
    "import time"
   ]
  },
  {
   "cell_type": "markdown",
   "id": "386cd253-1c98-45e6-b91b-7e401908e5dc",
   "metadata": {
    "id": "386cd253-1c98-45e6-b91b-7e401908e5dc"
   },
   "source": [
    "ログイン情報を入力"
   ]
  },
  {
   "cell_type": "code",
   "execution_count": 3,
   "id": "9584f54a-b412-45f3-b76d-a350ce4287b1",
   "metadata": {
    "id": "9584f54a-b412-45f3-b76d-a350ce4287b1"
   },
   "outputs": [],
   "source": [
    "login_ID = 75003107 # ご自身のログインIDを入力\n",
    "login_server = 'XMTrading-MT5 3' # ご自身のログインサーバーを入力\n",
    "login_password = 'Takasaki0419' # ご自身のログインパスワードを入力"
   ]
  },
  {
   "cell_type": "markdown",
   "id": "96d8a689-2ba0-4dc3-baa2-8ae3af5c2844",
   "metadata": {
    "id": "96d8a689-2ba0-4dc3-baa2-8ae3af5c2844"
   },
   "source": [
    "MT5に接続"
   ]
  },
  {
   "cell_type": "code",
   "execution_count": 4,
   "id": "a2cc5c0c-9074-4518-a7d7-2a44772db036",
   "metadata": {
    "id": "a2cc5c0c-9074-4518-a7d7-2a44772db036"
   },
   "outputs": [],
   "source": [
    "# ログイン情報で指定した取引口座でMetaTrader5に接続\n",
    "if not mt5.initialize(login=login_ID, server=login_server,password=login_password):\n",
    "    print(\"initialize() failed, error code =\",mt5.last_error())\n",
    "    quit()"
   ]
  },
  {
   "cell_type": "markdown",
   "id": "bb719eb1-0122-404f-88cd-b61463ae043f",
   "metadata": {
    "id": "bb719eb1-0122-404f-88cd-b61463ae043f"
   },
   "source": [
    "Input設定用のクラスを宣言"
   ]
  },
  {
   "cell_type": "code",
   "execution_count": 5,
   "id": "b701dbab-155d-4035-8666-ba45e030dda7",
   "metadata": {
    "id": "b701dbab-155d-4035-8666-ba45e030dda7"
   },
   "outputs": [],
   "source": [
    "class FirstInputData:\n",
    "  def __init__(self, in_symbol, in_first_lot): #in_symbolに取引対象[string],in_first_lotに取引ロット数[float]\n",
    "    self.symbol = in_symbol # 取引対象\n",
    "    self.first_lot = in_first_lot # 初期ロット数\n",
    "    self.tp_factor = 2.0 # 利確係数\n",
    "    self.sl_factor = 2.5 # ストップロス係数\n",
    "    self.magic_number = 10001 # マジックナンバー \n",
    "    self.slippage = 10 # スリッページ\n",
    "    self.bar_period = 30 # 取得する四本値の本数"
   ]
  },
  {
   "cell_type": "markdown",
   "id": "BqLfPAFj-oOG",
   "metadata": {
    "id": "BqLfPAFj-oOG"
   },
   "source": [
    "各種情報取得"
   ]
  },
  {
   "cell_type": "code",
   "execution_count": 6,
   "id": "zQ2zb53e-oOH",
   "metadata": {
    "id": "zQ2zb53e-oOH"
   },
   "outputs": [],
   "source": [
    "def return_point_function(symbol):\n",
    "  return mt5.symbol_info(symbol).point # 価格の最小単位"
   ]
  },
  {
   "cell_type": "markdown",
   "id": "NWJnW5qkGQt4",
   "metadata": {
    "id": "NWJnW5qkGQt4"
   },
   "source": [
    "テクニカル指標の関数定義"
   ]
  },
  {
   "cell_type": "code",
   "execution_count": 7,
   "id": "-wdytHAnEliG",
   "metadata": {
    "id": "-wdytHAnEliG"
   },
   "outputs": [],
   "source": [
    "# ATR\n",
    "def calculate_atr(data, period=14):\n",
    "    data['tr'] = np.maximum((data['high'] - data['low']), \n",
    "                            np.maximum(abs(data['high'] - data['close'].shift()), abs(data['low'] - data['close'].shift())))\n",
    "    data['atr'] = data['tr'].rolling(window=period).mean()\n",
    "    return data\n",
    "\n",
    "# MA\n",
    "def calculate_ma(data, period=15, price_type='close'):\n",
    "    data['ma'] = data[price_type].rolling(window=period).mean()\n",
    "    return data\n",
    "\n",
    "# RSI\n",
    "def calculate_rsi(data, period=14, price_type='close'):\n",
    "    delta = data[price_type].diff()\n",
    "    gains = delta.where(delta > 0, 0)\n",
    "    losses = -delta.where(delta < 0, 0)\n",
    "    avg_gain = gains.rolling(window=period).mean()\n",
    "    avg_loss = losses.rolling(window=period).mean()\n",
    "    rs = avg_gain / avg_loss\n",
    "    data['rsi'] = 100 - (100 / (1 + rs))\n",
    "    return data"
   ]
  },
  {
   "cell_type": "markdown",
   "id": "Ue4uY1iCTmiC",
   "metadata": {
    "id": "Ue4uY1iCTmiC"
   },
   "source": [
    "売買判断フラグを設定する関数"
   ]
  },
  {
   "cell_type": "code",
   "execution_count": 8,
   "id": "RAWpgvNkdfyY",
   "metadata": {
    "id": "RAWpgvNkdfyY"
   },
   "outputs": [],
   "source": [
    "def generate_trade_flgs(data, symbol_tick):\n",
    "\n",
    "    # テクニカル指標の計算\n",
    "    data = calculate_ma(data)\n",
    "    data = calculate_rsi(data)\n",
    "\n",
    "    # 売買判断フラグ\n",
    "    buy_flg = (symbol_tick.ask > data['ma'].iloc[-2]) & (data['rsi'].iloc[-2] < 40)\n",
    "    sell_flg = (symbol_tick.bid < data['ma'].iloc[-2]) & (data['rsi'].iloc[-2] > 60)\n",
    "\n",
    "    return buy_flg, sell_flg"
   ]
  },
  {
   "cell_type": "markdown",
   "id": "6a274121-6fc3-4137-abe9-fa58a9ac5176",
   "metadata": {
    "id": "6a274121-6fc3-4137-abe9-fa58a9ac5176"
   },
   "source": [
    "トレードする部分を関数化"
   ]
  },
  {
   "cell_type": "code",
   "execution_count": 9,
   "id": "660bb791",
   "metadata": {},
   "outputs": [],
   "source": [
    "def trading_function(symbol, bar_period, tp_factor, sl_factor, first_lot, slippage, magic_number):\n",
    "    symbol_tick = mt5.symbol_info_tick(symbol)\n",
    "\n",
    "    # 1分足データを取得\n",
    "    rates = mt5.copy_rates_from_pos(symbol, mt5.TIMEFRAME_M1, 0, bar_period)#TIMEFRAMEで時間足を変更できる\n",
    "    data = pd.DataFrame(rates)\n",
    "    data['time'] = pd.to_datetime(data['time'], unit='s')\n",
    "\n",
    "    # ATRを計算\n",
    "    data = calculate_atr(data)\n",
    "    atr = data['atr'].iloc[-2]\n",
    "\n",
    "    # 売買判断フラグを設定\n",
    "    buy_flg, sell_flg = generate_trade_flgs(data, symbol_tick)\n",
    "\n",
    "    # ポジション情報を取得\n",
    "    buy_position = None\n",
    "    sell_position = None\n",
    "    positions = mt5.positions_get(group='*' + symbol + '*')\n",
    "\n",
    "    for position in positions:\n",
    "        order_type = position[5]\n",
    "\n",
    "        if order_type == 0:\n",
    "            buy_position = position\n",
    "        elif order_type == 1:\n",
    "            sell_position = position\n",
    "\n",
    "\n",
    "    # buyエントリー\n",
    "    if buy_flg and buy_position is None:\n",
    "        tp = round((symbol_tick.ask + atr * tp_factor) / return_point_function(symbol)) * return_point_function(symbol)\n",
    "        sl = round((symbol_tick.ask - atr * sl_factor) / return_point_function(symbol)) * return_point_function(symbol) - (symbol_tick.ask - symbol_tick.bid)\n",
    "\n",
    "        request = {\n",
    "            'symbol': symbol,\n",
    "            'action': mt5.TRADE_ACTION_DEAL,\n",
    "            'type': mt5.ORDER_TYPE_BUY,\n",
    "            'volume': first_lot,\n",
    "            'price': symbol_tick.ask,\n",
    "            'sl': sl,\n",
    "            'tp': tp,\n",
    "            'deviation': slippage,\n",
    "            'magic': magic_number,\n",
    "            'type_time': mt5.ORDER_TIME_GTC,\n",
    "            'type_filling': mt5.ORDER_FILLING_IOC,\n",
    "        }\n",
    "\n",
    "        result = mt5.order_send(request)\n",
    "    \n",
    "    # sellエントリー\n",
    "    if sell_flg and sell_position is None:\n",
    "        tp = round((symbol_tick.bid - atr * tp_factor) / return_point_function(symbol)) * return_point_function(symbol)\n",
    "        sl = round((symbol_tick.bid + atr * sl_factor) / return_point_function(symbol)) * return_point_function(symbol) + (symbol_tick.ask - symbol_tick.bid)\n",
    "\n",
    "        request = {\n",
    "            'symbol': symbol,\n",
    "            'action': mt5.TRADE_ACTION_DEAL,\n",
    "            'type': mt5.ORDER_TYPE_SELL,\n",
    "            'volume': first_lot,\n",
    "            'price': symbol_tick.bid,\n",
    "            'sl': sl,\n",
    "            'tp': tp,\n",
    "            'deviation': slippage,\n",
    "            'magic': magic_number,\n",
    "            'type_time': mt5.ORDER_TIME_GTC,\n",
    "            'type_filling': mt5.ORDER_FILLING_IOC,\n",
    "        }\n",
    "\n",
    "        result = mt5.order_send(request)\n"
   ]
  },
  {
   "cell_type": "markdown",
   "id": "980edb3b",
   "metadata": {},
   "source": [
    "インプット用のインスタンスをオブジェクト化"
   ]
  },
  {
   "cell_type": "code",
   "execution_count": 10,
   "id": "8522094f",
   "metadata": {},
   "outputs": [],
   "source": [
    "input1 = FirstInputData(\"USDJPY\", 0.05)\n",
    "input2 = FirstInputData(\"EURUSD\", 0.05)\n",
    "input3 = FirstInputData(\"EURJPY\", 0.05)"
   ]
  },
  {
   "cell_type": "code",
   "execution_count": 11,
   "id": "d8dwTSJPE1es",
   "metadata": {
    "id": "d8dwTSJPE1es"
   },
   "outputs": [],
   "source": [
    "while True:\n",
    "    #こっちはドル円用\n",
    "    #symbol, bar_period, tp_factor, sl_factor, first_lot, slippage, magic_number\n",
    "    #ドル円用\n",
    "    trading_function(input1.symbol, input1.bar_period, input1.tp_factor, input1.sl_factor, input1.first_lot, input1.slippage, input1.magic_number)\n",
    "    #ユーロドル用\n",
    "    trading_function(input2.symbol, input2.bar_period, input2.tp_factor, input2.sl_factor, input2.first_lot, input2.slippage, input2.magic_number)\n",
    "    #ユーロ円用\n",
    "    trading_function(input3.symbol, input3.bar_period, input3.tp_factor, input3.sl_factor, input3.first_lot, input3.slippage, input3.magic_number)\n",
    "\n",
    "\n",
    "    time.sleep(60)  # 1分間隔でループを実行\n"
   ]
  }
 ],
 "metadata": {
  "colab": {
   "provenance": []
  },
  "kernelspec": {
   "display_name": "Python 3 (ipykernel)",
   "language": "python",
   "name": "python3"
  },
  "language_info": {
   "codemirror_mode": {
    "name": "ipython",
    "version": 3
   },
   "file_extension": ".py",
   "mimetype": "text/x-python",
   "name": "python",
   "nbconvert_exporter": "python",
   "pygments_lexer": "ipython3",
   "version": "3.11.0"
  }
 },
 "nbformat": 4,
 "nbformat_minor": 5
}
